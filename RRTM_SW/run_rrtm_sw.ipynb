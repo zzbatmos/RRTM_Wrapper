{
 "cells": [
  {
   "cell_type": "code",
   "execution_count": 1,
   "id": "8d6ab901-edcf-4436-ae0e-a9503352934e",
   "metadata": {},
   "outputs": [],
   "source": [
    "import os\n",
    "import numpy as np\n",
    "import pandas as pd\n",
    "from scipy.interpolate import interp1d\n",
    "import sys\n",
    "import math\n",
    "from netCDF4 import Dataset\n",
    "import os, calendar, sys, fnmatch, datetime\n",
    "from sur_spec_alb_interpolate import sur_spec_alb_interpolate\n",
    "\n",
    "from INPUT_RRTM_sw import *\n",
    "from INPUT_CLD_RRTM_sw import *\n",
    "from INPUT_AER_RRTM_sw import *"
   ]
  },
  {
   "cell_type": "code",
   "execution_count": 2,
   "id": "855d3cef-bcb2-406b-a8a0-cb1255c77879",
   "metadata": {},
   "outputs": [],
   "source": [
    "#*******************\n",
    "model_dir = '/umbc/xfs1/zzbatmos-new/common/Codes/'\n",
    "output_dir = './rrtm_output/'\n",
    "RT_model_sw = model_dir+'rrtm_sw/rrtm_sw_taki_intel'\n",
    "RT_model_lw = model_dir+'rrtm_lw/rrtm_lw_taki_intel'\n",
    "\n",
    "#Parameters the model needs\n",
    "SOLVAR  = 0.0  #(16,29)the solar source function scale factor for each band.\n",
    "#HBOUND = np.loadtxt(fname=file6)       #altitude of the surface (km)\n",
    "HTOA   = 77.0       #altitude of the top of the atmosphere (km)\n",
    "\n",
    "#--------------------------------------------------;\n",
    "ISCAT_lw   = 2\n",
    "ISCAT_sw   = 0\n",
    "NUMANGS = 0 # 4 streams for lw\n",
    "ISTRM = 0   # 4 streams for sw\n",
    "NSTR  = 4   # of streams"
   ]
  },
  {
   "cell_type": "code",
   "execution_count": 3,
   "id": "03d09c0a-9c59-4f74-aaec-016fb6389206",
   "metadata": {},
   "outputs": [],
   "source": [
    "# =====RRTM input data=====\n",
    "atm_prof = np.loadtxt('atm_profile_cloudysky.txt',skiprows=1)\n",
    "ZM = atm_prof[::-1,0] #km\n",
    "PM = atm_prof[::-1,1] #hpa\n",
    "TM = atm_prof[::-1,2] #K\n",
    "h2o = atm_prof[::-1,4]  #g/m3   #kg/kg . kg/kg *1e3 = gm/kg\n",
    "o3 = atm_prof[::-1,5]   #g/m3  #ppmv 'parts per million volume = 1e-6'. 1ppmv=1e-3*gm/kg\n",
    "\n",
    "Rs = np.array([0.1]) ###\n",
    "sza = np.array([0]) ###"
   ]
  },
  {
   "cell_type": "code",
   "execution_count": 4,
   "id": "c25ec733-f9cf-4315-a01b-c2f04bc75820",
   "metadata": {},
   "outputs": [
    {
     "name": "stdout",
     "output_type": "stream",
     "text": [
      "1\n",
      "[ 0.  1.  2.  3.  4.  5.  6.  7.  8.  9. 10. 11. 12. 13. 14. 15. 16. 17.\n",
      " 18. 19. 20. 21. 22. 23. 24. 25. 30. 35. 40. 45. 50.]\n",
      "[0.1 0.1 0.1 0.1 0.1 0.1 0.1 0.1 0.1 0.1 0.1 0.1 0.1 0.1]\n",
      " Compute clear-sky sw flux w/o aerososl\n",
      "[ 0.  16.7 16.7  0.   0.   0.   0.   0.   0.   0.   0.   0.   0.   0.\n",
      "  0.   0.   0.   0.   0.   0.   0.   0.   0.   0.   0.   0.   0.   0.\n",
      "  0.   0.   0. ]\n",
      "[ 0. 10. 10.  0.  0.  0.  0.  0.  0.  0.  0.  0.  0.  0.  0.  0.  0.  0.\n",
      "  0.  0.  0.  0.  0.  0.  0.  0.  0.  0.  0.  0.  0.]\n",
      "*** 31 2 [1 2]\n",
      " Compute sw fluxs with clouds\n",
      "*** 1 16.7 10.0\n",
      "*** 2 16.7 10.0\n"
     ]
    }
   ],
   "source": [
    "n_case = np.size(Rs)\n",
    "print(n_case)\n",
    "for ic in range(n_case):\n",
    "    SUF_ALB = np.ones(14)*Rs[ic]###\n",
    "\n",
    "    print(ZM)\n",
    "    print(SUF_ALB)\n",
    "    \n",
    "    SZA = sza[ic]\n",
    "    if ZM[0]<0.1 :\n",
    "        HBOUND = ZM[0]+0.001\n",
    "    else:\n",
    "        HBOUND = ZM[0]+0.01\n",
    "    IMMAX = len(PM)\n",
    "    IBMAX = IMMAX\n",
    "\n",
    "    VMOL_wv = h2o   ###kg/kg*1e3=gm/kg\n",
    "    VMOL_o3 = o3    ###ppmv*1e3=gm/kg\n",
    "    VMOL_co2= np.ones(IMMAX)* 360 #no CO2 profile in data, add mannually, ppmv\n",
    "    VMOL_n2o = np.ones(IMMAX)*0.3 #PPMV\n",
    "    VMOL_co = np.zeros(IMMAX)\n",
    "    VMOL_ch4 = np.ones(IMMAX)*1.7 #PPMV\n",
    "    VMOL_total = np.vstack((VMOL_wv,VMOL_co2,VMOL_o3,VMOL_n2o,VMOL_co,VMOL_ch4))#density of the molecule set by JCHAR(K)\n",
    "    VMOL=VMOL_total\n",
    "\n",
    "    #---------------sw flux-------------------------------------\n",
    "    ICLD = 0\n",
    "    IAER = 0\n",
    "    print(' Compute clear-sky sw flux w/o aerososl')\n",
    "    read_input_rrtm_sw('INPUT_RRTM', IAER, ICLD, ISCAT_sw, ISTRM, SZA, 1.0-SUF_ALB, \\\n",
    "    HBOUND, IMMAX, ZM, PM, TM, VMOL)\n",
    "    os.system(RT_model_sw)\n",
    "    os.system('mv INPUT_RRTM INPUT_RRTM.sw')\n",
    "    os.system('mv OUTPUT_RRTM '+output_dir+'OUTPUT_RRTM_sw.clear')\n",
    "\n",
    "    #!!layer n corresponds to the region between altitudes n and n+1 in the list of layer boundaries\n",
    "    CWP=atm_prof[::-1,6] #cloud water path (g/m^2)\n",
    "    EFFSIZELIQ=atm_prof[::-1,7] #cloud droplet effective radius (microns)\n",
    "    NLAY=np.count_nonzero(CWP) # A scalar represents the number of cloudy layers\n",
    "    LAY=np.where(CWP!=0)[0] # An array contains index of cloudy layers\n",
    "    print(CWP)\n",
    "    print(EFFSIZELIQ)\n",
    "    print('***',len(CWP),NLAY, LAY)\n",
    "\n",
    "    ICLD = 1\n",
    "    IAER = 0\n",
    "    print(' Compute sw fluxs with clouds')\n",
    "    read_input_rrtm_sw('INPUT_RRTM', IAER, ICLD, ISCAT_sw, ISTRM, SZA, 1.0-SUF_ALB, \\\n",
    "    HBOUND, IMMAX, ZM, PM, TM, VMOL)\n",
    "    write_IN_CLD_RRTM_sw('IN_CLD_RRTM', NLAY, LAY, CWP, EFFSIZELIQ)\n",
    "    os.system(RT_model_sw)\n",
    "    os.system('mv INPUT_RRTM INPUT_RRTM.sw')\n",
    "    os.system('mv IN_CLD_RRTM IN_CLD_RRTM.sw')\n",
    "    os.system('mv OUTPUT_RRTM '+output_dir+'OUTPUT_RRTM_sw.clouds')"
   ]
  },
  {
   "cell_type": "code",
   "execution_count": null,
   "id": "7fe86a56-a4cb-42df-a9c7-0473206de1e0",
   "metadata": {},
   "outputs": [],
   "source": []
  }
 ],
 "metadata": {
  "kernelspec": {
   "display_name": "Python 3 (ipykernel)",
   "language": "python",
   "name": "python3"
  },
  "language_info": {
   "codemirror_mode": {
    "name": "ipython",
    "version": 3
   },
   "file_extension": ".py",
   "mimetype": "text/x-python",
   "name": "python",
   "nbconvert_exporter": "python",
   "pygments_lexer": "ipython3",
   "version": "3.9.7"
  }
 },
 "nbformat": 4,
 "nbformat_minor": 5
}
